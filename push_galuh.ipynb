{
 "cells": [
  {
   "cell_type": "markdown",
   "metadata": {},
   "source": [
    "# TRY TO PUSH GITHUB"
   ]
  },
  {
   "cell_type": "markdown",
   "metadata": {},
   "source": [
    "## Clone\n",
    "\n",
    "1. `git clone <link ssh>`\n",
    "2. `cd` ke repo di local device\n",
    "3. Buat file tugas atau copas dari folder sebelum repo terbentuk\n",
    "4. `git status` untuk cek file terbaru tsb --> harusnya warna filenya merah\n",
    "5. `git add` untuk masukkan seluruh file di repo lokal ke staging mode\n",
    "6. `git status` seharusnya file menjadi warna hijau\n",
    "7. `git commit -m \"final push\"` untuk commit dan memberikan message \"final push\"\n",
    "8. `git push` untuk push ke github kalian\n",
    "9. Make sure di github file baru sudah terupdate"
   ]
  },
  {
   "cell_type": "markdown",
   "metadata": {},
   "source": [
    "## CODES"
   ]
  },
  {
   "cell_type": "code",
   "execution_count": 15,
   "metadata": {},
   "outputs": [
    {
     "name": "stdout",
     "output_type": "stream",
     "text": [
      "Hello World, from Galuh\n"
     ]
    }
   ],
   "source": [
    "print(\"Hello World, from Galuh\")\n"
   ]
  },
  {
   "cell_type": "markdown",
   "metadata": {},
   "source": [
    "**HELLO**"
   ]
  },
  {
   "cell_type": "code",
   "execution_count": 16,
   "metadata": {},
   "outputs": [
    {
     "data": {
      "text/plain": [
       "3"
      ]
     },
     "execution_count": 16,
     "metadata": {},
     "output_type": "execute_result"
    }
   ],
   "source": [
    "a = 1\n",
    "\n",
    "b = 2\n",
    "\n",
    "a + b\n"
   ]
  },
  {
   "cell_type": "code",
   "execution_count": null,
   "metadata": {},
   "outputs": [],
   "source": []
  }
 ],
 "metadata": {
  "kernelspec": {
   "display_name": "Python 3",
   "language": "python",
   "name": "python3"
  },
  "language_info": {
   "codemirror_mode": {
    "name": "ipython",
    "version": 3
   },
   "file_extension": ".py",
   "mimetype": "text/x-python",
   "name": "python",
   "nbconvert_exporter": "python",
   "pygments_lexer": "ipython3",
   "version": "3.9.7"
  }
 },
 "nbformat": 4,
 "nbformat_minor": 2
}
